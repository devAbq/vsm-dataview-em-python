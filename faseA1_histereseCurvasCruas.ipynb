{
 "cells": [
  {
   "cell_type": "markdown",
   "id": "1354b227",
   "metadata": {},
   "source": [
    "<h5>Plotando curva de histerese para cada ângulo (sem normalização).</h5>\n",
    "<p>Este script varre o diretorio onde estão localizados os arquivos .txt contendo as medidas cruas obtidas no VSM e plota eles num gráfico. Assim, é possível visualizar quais conjuntos de medidas apresentam drift, que podem ser ajustadas utilizando o script <code>faseB_histereseAjusteDeDrift</code>.</p>"
   ]
  },
  {
   "cell_type": "code",
   "execution_count": null,
   "id": "2e14a04e",
   "metadata": {
    "scrolled": false
   },
   "outputs": [],
   "source": [
    "\"\"\"\n",
    "CARREANDO MÓDULOS NECESSÁRIOS\n",
    "\"\"\"\n",
    "\n",
    "import numpy as np #biblioteca usada para manipulação de matrizes e aplicações matemáticas -CLEIZA #type: ignore\n",
    "import matplotlib.pyplot as plt #bibioteca para plot de figuras -CLEIZA #type: ignore\n",
    "import os #biblioteca para manipulação de diretórios e arquivos -CLEIZA\n",
    "from caminhosDosDiretorios import diretorioDeDadosDesteDispositivo as dirDados, diretorioDeGraficosDesteDispositivo as dirGraficos #de caminhoDosDiretorios.py, chamamos variáveis que guardam respectivamente o caminho do diretório onde estão os arquivos de dados deste dispositivo e o caminho do diretório onde serão salvos os gráficos neste dispositivo -ABQ\n",
    "from funcoesNomeDeArquivo import extrair_angulo, nomeConcatenadoDaAmostra #de funcoesNomeDeArquivo.py, chamamos aqui funcoes que extraem partes do nome do arquivo -ABQ\n",
    "\n",
    "\"\"\"\n",
    "CHAMANDO E RECONHECENDO DADOS\n",
    "\"\"\"\n",
    "\n",
    "#subdiretorio especifico que este script vai varrer para extrair os dados especificos, neste caso, será \"/dadosCrus/\". -ABQ\n",
    "subdiretorioDeDadosAVarrer = dirDados+\"dadosCrusMenos12/\"\n",
    "\n",
    "# Lista todos os arquivos na pasta -CLEIZA\n",
    "arquivos = os.listdir(subdiretorioDeDadosAVarrer)\n",
    "\n",
    "# Filtra apenas os arquivos .txt -CLEIZA\n",
    "arquivos_txt = [arquivo for arquivo in arquivos if arquivo.endswith('.txt')]\n",
    "\n",
    "# Ordena os arquivos pelo ângulo -CLEIZA\n",
    "#arquivos_txt.sort(key=extrair_angulo) \n",
    "#PERGUNTA: qual a razao pratica para essa linha? -ABQ\n",
    "\n",
    "# Itera sobre os arquivos para criar os gráficos\n",
    "for arquivo_txt in arquivos_txt:\n",
    "    #extrai o nome da amostra do arquivo -ABQ\n",
    "    nomeDaAmostraEAngulo = f\"{nomeConcatenadoDaAmostra(arquivo_txt)} {extrair_angulo(arquivo_txt)}°\"\n",
    "\n",
    "    # Extrai o ângulo do nome do arquivo\n",
    "    angulo = extrair_angulo(arquivo_txt)\n",
    "\n",
    "    # Caminho completo do arquivo\n",
    "    caminho_arquivo = os.path.join(subdiretorioDeDadosAVarrer, arquivo_txt)\n",
    "    \n",
    "    # Carrega os dados do arquivo, ignorando 12 linhas\n",
    "    dados = np.loadtxt(caminho_arquivo)\n",
    "\n",
    "    # Extrai os dados de campo e magnetização\n",
    "    campo = dados[:, 0]\n",
    "    magnetizacao = dados[:, 1]\n",
    "    \n",
    "    # Plota a curva de histerese -CLEIZA\n",
    "    plt.plot(campo, magnetizacao, \"--o\", color='red')\n",
    "\n",
    "    # Adiciona linhas de eixo\n",
    "    plt.axhline(0, color='black', linewidth=0.5)  # Linha de grade zero para magnetização -CLEIZA\n",
    "    plt.axvline(0, color='black', linewidth=0.5)  # Linha de grade zero para campo -CLEIZA\n",
    "\n",
    "    \n",
    "    # Adiciona rótulos com tamanho de fonte personalizado -CLEIZA\n",
    "    plt.xlabel('Campo (Oe)')\n",
    "    plt.ylabel('Momentum (emu)')\n",
    "    plt.legend([\"M\"], loc = \"lower right\", title=f\"{nomeDaAmostraEAngulo}\", frameon=False)\n",
    "\n",
    "    #cria um diretorio graficosCrus dentro do diretorio graficosGerados, caso ele ainda não exista -ABQ\n",
    "    os.makedirs(f\"{dirGraficos}/graficosCrus\", exist_ok=True)\n",
    "\n",
    "    #salva a figura em formato png dentro do diretorio graficosCrus, que por sua vez fica no diretorio graficosGerados -ABQ\n",
    "    plt.savefig(f\"{dirGraficos}/graficosCrus/{nomeDaAmostraEAngulo}_Cru.png\", dpi=300)\n",
    "    \n",
    "    # Exibe o gráfico -CLEIZA\n",
    "    plt.show()"
   ]
  }
 ],
 "metadata": {
  "kernelspec": {
   "display_name": "Python 3 (ipykernel)",
   "language": "python",
   "name": "python3"
  },
  "language_info": {
   "codemirror_mode": {
    "name": "ipython",
    "version": 3
   },
   "file_extension": ".py",
   "mimetype": "text/x-python",
   "name": "python",
   "nbconvert_exporter": "python",
   "pygments_lexer": "ipython3",
   "version": "3.12.3"
  }
 },
 "nbformat": 4,
 "nbformat_minor": 5
}
