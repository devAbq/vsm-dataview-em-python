{
 "cells": [
  {
   "cell_type": "markdown",
   "metadata": {},
   "source": [
    "##### Eliminação do cabeçario dos arquivos\n",
    "Este script varre o diretorio dadosCrus, onde devem estar os arquivos em textos crus fornecidos pelo VSM e elimina as 12 primeiras linhas, que contém metadados não úteis para nossa visualização dos dados de medida"
   ]
  },
  {
   "cell_type": "code",
   "execution_count": null,
   "metadata": {},
   "outputs": [],
   "source": [
    "\"\"\"\n",
    "CARREGANDO MÓDULOS NECESSÁRIOS\n",
    "\"\"\"\n",
    "\n",
    "import os #biblioteca para manipulação de arquivos e diretórios -ABQ\n",
    "import pandas as pd #biblioteica para ciencia de dados usada aqui para salvar os arquivos em um novo formato #type:ignore\n",
    "from caminhosDiretorios import dirDadosDesteDispositivo as dirDados #de caminhosDosDiretorios, importamos a variavel string que guarda o caminho do diretorio de dados deste dispositivo. -ABQ\n",
    "\n",
    "#cria o diretorio dadosCrusMenos12 caso não exista-ABQ\n",
    "os.makedirs(dirDados+\"dadosCrusMenos12\", exist_ok=True)\n",
    "\n",
    "#encaminhar os diretorios de dados brutos e processados -ABQ\n",
    "dirDadosCrus = (dirDados+\"dadosCrus/\")\n",
    "dirDadosCrusMenos12 = (dirDados+\"dadosCrusMenos12/\")\n",
    "\n",
    "#lista todos os arquivos do diretorio dadosCrus e anexa seus nomes nessa lista caso eles terminem com a extensão \".txt\" -ABQ\n",
    "arquivosCrus = [arquivoCru for arquivoCru in os.listdir(dirDadosCrus) if arquivoCru.endswith(\".txt\")]\n",
    "\n",
    "#constante que guarda o número de linhas a serem puladas -ABQ\n",
    "LINHAS_A_SEREM_REMOVIDAS = int(12)\n",
    "\n",
    "#loop para processar cada arquivo txt anteriormente identificado -ABQ\n",
    "contador = 0 #contador de arquivos processados -ABQ\n",
    "for arquivoCru in arquivosCrus:\n",
    "    #lê os dados do arquivo cru pulando as 12 primeiras linhas -ABQ\n",
    "    dados = pd.read_csv(os.path.join(dirDadosCrus, arquivoCru), skiprows=LINHAS_A_SEREM_REMOVIDAS, header=None, sep=\" \")\n",
    "\n",
    "    #novo caminho do arquivo processado -ABQ\n",
    "    novoCaminhoDoArquivo = os.path.join(dirDadosCrusMenos12, arquivoCru)\n",
    "\n",
    "    #salva o arquivo processado no diretório dadosCrusMenos12 -ABQ\n",
    "    dados.to_csv(novoCaminhoDoArquivo, index=False, header=False, sep=\" \")\n",
    "    contador += 1\n",
    "print(f\"Foram removidas as {LINHAS_A_SEREM_REMOVIDAS} primeiras linhas de {contador} arquivos.\")"
   ]
  }
 ],
 "metadata": {
  "kernelspec": {
   "display_name": "Python 3",
   "language": "python",
   "name": "python3"
  },
  "language_info": {
   "codemirror_mode": {
    "name": "ipython",
    "version": 3
   },
   "file_extension": ".py",
   "mimetype": "text/x-python",
   "name": "python",
   "nbconvert_exporter": "python",
   "pygments_lexer": "ipython3",
   "version": "3.12.3"
  }
 },
 "nbformat": 4,
 "nbformat_minor": 2
}
